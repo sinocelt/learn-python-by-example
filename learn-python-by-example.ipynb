{
 "cells": [
  {
   "cell_type": "markdown",
   "id": "6b5df320-101d-4024-971a-71c56b3059b2",
   "metadata": {},
   "source": [
    "# Learn Python by Example 💻🐍"
   ]
  },
  {
   "cell_type": "markdown",
   "id": "9d4e2e58-a53c-4f1a-b7a7-d09811491d4c",
   "metadata": {},
   "source": [
    "By Justin Barry <br/>\n",
    "https://watsontechworld.com"
   ]
  },
  {
   "cell_type": "markdown",
   "id": "87ef7d7f-6003-485a-9dd7-0f4c1a737f0c",
   "metadata": {},
   "source": [
    "Welcome to Python!!! Python is a wonderful programming language in my opinion. It is one of the most popular languages in the world, and is also one of the easiest to learn!\n",
    "\n",
    "With Python, you can do almost anything from making cool games, making websites, and working on complex things like data science, AI, and more!\n",
    "\n",
    "Python is now a top language for business people, scientists, and so much more.\n",
    "\n",
    "I believe that the best way to learn Python is by doing. That is to say, you learn by actually coding yourself. I hope this book can be a catalyst for you learning this wonderful language. I recommend you try out the code on your own, and don't just read this book like any other book.\n",
    "\n",
    "To learn Python, you learn to actively learn it by actually coding. This book is meant to give you foundations to get started, and show you some cool things you can do with Python.\n",
    "\n",
    "You might even learn to love Python like I have."
   ]
  },
  {
   "cell_type": "code",
   "execution_count": null,
   "id": "0a59c151-3552-459a-ab18-500642e66ae8",
   "metadata": {},
   "outputs": [],
   "source": []
  },
  {
   "cell_type": "markdown",
   "id": "40cd148b-4e33-44c9-aaea-0b52aab7aa1a",
   "metadata": {},
   "source": [
    "# Why Python?"
   ]
  },
  {
   "cell_type": "markdown",
   "id": "f4bc5e33-e3fb-41dd-93c5-cdf4b474f3df",
   "metadata": {},
   "source": [
    "There are many programming languages. Why learn Python?\n",
    "\n",
    "Here are some top features of Python that make it appealing\n",
    "* It's easy and fast to learn\n",
    "* Its syntax (rules of the language) are much easier to learn compared with languages like C++ or Java\n",
    "* It's extremely popular (according to Tiobe.com, it is the most popular programming langauge in 2024 and 2025 https://www.tiobe.com/tiobe-index/)\n",
    "* It's in high demand for jobs\n",
    "* It's one of the main languages for AI, machine learning, and data science\n",
    "* It's free to use\n",
    "* It's open source"
   ]
  },
  {
   "cell_type": "code",
   "execution_count": null,
   "id": "f7ec1558-a5a0-4e59-ae4a-bc416fa6aed1",
   "metadata": {},
   "outputs": [],
   "source": []
  },
  {
   "cell_type": "markdown",
   "id": "77fddb38-df21-4398-a58f-762af5310695",
   "metadata": {},
   "source": [
    "# The print() function "
   ]
  },
  {
   "cell_type": "markdown",
   "id": "c7ec7f6f-2ead-43bb-90a6-3cc8ab13c013",
   "metadata": {},
   "source": [
    "The print function is one of the most important and most useful functions in Python. It allows you to output to the console to use useful information"
   ]
  },
  {
   "cell_type": "markdown",
   "id": "88249d65-9f98-4863-bd7e-da46015b872a",
   "metadata": {},
   "source": [
    "For example, we can print out numbers, text, and more to the console"
   ]
  },
  {
   "cell_type": "code",
   "execution_count": 1,
   "id": "532de9c5-c7aa-43ab-80ec-d44583e7e0f7",
   "metadata": {},
   "outputs": [],
   "source": [
    "# print out the number 1 to the console"
   ]
  },
  {
   "cell_type": "code",
   "execution_count": 2,
   "id": "b665e4dc-a912-4cfb-bdf9-cc66808852d8",
   "metadata": {},
   "outputs": [
    {
     "name": "stdout",
     "output_type": "stream",
     "text": [
      "1\n"
     ]
    }
   ],
   "source": [
    "print(1)"
   ]
  },
  {
   "cell_type": "markdown",
   "id": "6d2965c1-4a39-43c5-988e-8ba4de885eeb",
   "metadata": {},
   "source": [
    "Print out the message hello world! to the console"
   ]
  },
  {
   "cell_type": "code",
   "execution_count": 3,
   "id": "2c7e06b7-f8f0-456d-8d8c-374a41c32e5b",
   "metadata": {},
   "outputs": [
    {
     "name": "stdout",
     "output_type": "stream",
     "text": [
      "hello world!\n"
     ]
    }
   ],
   "source": [
    "print(\"hello world!\")"
   ]
  },
  {
   "cell_type": "code",
   "execution_count": null,
   "id": "3dfe751a-bdee-4f21-ad33-2ab81e46e316",
   "metadata": {},
   "outputs": [],
   "source": []
  },
  {
   "cell_type": "markdown",
   "id": "e5527e7a-a667-4098-8d2a-e6d07ba0f4c3",
   "metadata": {},
   "source": [
    "# Basic arithmetic"
   ]
  },
  {
   "cell_type": "markdown",
   "id": "a8ac0fef-d2e5-4ca6-b1b4-b8bd5345e7df",
   "metadata": {},
   "source": [
    "We can use Python to add (+), subtract(-), multiply(divide (/), exponent (**) and much more!"
   ]
  },
  {
   "cell_type": "markdown",
   "id": "8b75f607-b395-4b3f-b9e1-002b25ad8ff9",
   "metadata": {},
   "source": [
    "For example, let's add 1 and 2 together"
   ]
  },
  {
   "cell_type": "code",
   "execution_count": 4,
   "id": "6786425d-e8d1-4cbd-96c1-b5ee422d0c43",
   "metadata": {},
   "outputs": [
    {
     "name": "stdout",
     "output_type": "stream",
     "text": [
      "3\n"
     ]
    }
   ],
   "source": [
    "print(1+2)"
   ]
  },
  {
   "cell_type": "markdown",
   "id": "13e6a4ed-3652-458e-8fa0-c7c3cde61acf",
   "metadata": {},
   "source": [
    "Subtract 4 from 10"
   ]
  },
  {
   "cell_type": "code",
   "execution_count": 5,
   "id": "2844b152-b598-41c6-99b2-ba70e843f1ae",
   "metadata": {},
   "outputs": [
    {
     "name": "stdout",
     "output_type": "stream",
     "text": [
      "6\n"
     ]
    }
   ],
   "source": [
    "print(10-4)"
   ]
  },
  {
   "cell_type": "markdown",
   "id": "3690b3b9-b2bf-4579-9527-35b5881db47c",
   "metadata": {},
   "source": [
    "Multiply 10 and 20 together"
   ]
  },
  {
   "cell_type": "code",
   "execution_count": 6,
   "id": "c01a0926-1005-4203-b4cf-e9137947b4a1",
   "metadata": {},
   "outputs": [
    {
     "name": "stdout",
     "output_type": "stream",
     "text": [
      "200\n"
     ]
    }
   ],
   "source": [
    "print(10*20)"
   ]
  },
  {
   "cell_type": "markdown",
   "id": "da4a2818-c897-45ba-892e-330e2445c0ab",
   "metadata": {},
   "source": [
    "Divide 100 by 50"
   ]
  },
  {
   "cell_type": "code",
   "execution_count": 7,
   "id": "4e466570-b17d-475c-98e4-191ac5ffe0c2",
   "metadata": {},
   "outputs": [
    {
     "name": "stdout",
     "output_type": "stream",
     "text": [
      "2.0\n"
     ]
    }
   ],
   "source": [
    "print(100/50)"
   ]
  },
  {
   "cell_type": "markdown",
   "id": "95444890-7e91-4289-b18d-87488382e9e3",
   "metadata": {},
   "source": [
    "Show 5 to the 3rd power (5 ^ 3)"
   ]
  },
  {
   "cell_type": "code",
   "execution_count": 8,
   "id": "a61e0323-c7b5-4b2e-9bd9-6e3883773b17",
   "metadata": {},
   "outputs": [
    {
     "name": "stdout",
     "output_type": "stream",
     "text": [
      "125\n"
     ]
    }
   ],
   "source": [
    "print(5**3)"
   ]
  },
  {
   "cell_type": "code",
   "execution_count": null,
   "id": "24b183d9-77cd-4640-8c64-cac24a28e057",
   "metadata": {},
   "outputs": [],
   "source": []
  },
  {
   "cell_type": "markdown",
   "id": "f4ade3e7-d37b-4032-b0b0-1a43b2e3096f",
   "metadata": {},
   "source": [
    "# Python variables"
   ]
  },
  {
   "cell_type": "markdown",
   "id": "3e9db95c-154f-48c7-b5e3-08b535c93370",
   "metadata": {},
   "source": [
    "Variables are a way to store data you want to reuse later. They are an incredibly useful thing to have in Python"
   ]
  },
  {
   "cell_type": "code",
   "execution_count": 9,
   "id": "4597ecde-ab8e-4165-b4cc-211c3a9ce7a1",
   "metadata": {},
   "outputs": [],
   "source": [
    "# examples\n",
    "x = 1\n",
    "y = 2"
   ]
  },
  {
   "cell_type": "markdown",
   "id": "e4a5af1e-6f58-4981-a234-c8f6ea16737a",
   "metadata": {},
   "source": [
    "Above, we assigned the variable x to the number 1 and we assigned the variable y to the number 2. Let's print out x and y now"
   ]
  },
  {
   "cell_type": "code",
   "execution_count": 10,
   "id": "a1d0bfb1-872e-40c2-ad30-c74e0ed0060c",
   "metadata": {},
   "outputs": [
    {
     "name": "stdout",
     "output_type": "stream",
     "text": [
      "1\n",
      "2\n"
     ]
    }
   ],
   "source": [
    "print(x)\n",
    "print(y)"
   ]
  },
  {
   "cell_type": "markdown",
   "id": "64ccf393-9a2d-41f3-b798-9bc49e32561a",
   "metadata": {},
   "source": [
    "Now lets add x and y together and print their sum"
   ]
  },
  {
   "cell_type": "code",
   "execution_count": 11,
   "id": "c91d2bb2-bb36-4195-8874-04e39ffeec2a",
   "metadata": {},
   "outputs": [
    {
     "name": "stdout",
     "output_type": "stream",
     "text": [
      "3\n"
     ]
    }
   ],
   "source": [
    "print(x+y)"
   ]
  },
  {
   "cell_type": "markdown",
   "id": "d0e835de-7095-47d6-b7f5-6be97d318e3d",
   "metadata": {},
   "source": [
    "Now let's add x and y together, and then assign their sum to another variable, z. Later let's print out z"
   ]
  },
  {
   "cell_type": "code",
   "execution_count": 12,
   "id": "c1f3b1c2-b7a5-4b15-a7c3-8436d158a9e0",
   "metadata": {},
   "outputs": [],
   "source": [
    "z = x + y"
   ]
  },
  {
   "cell_type": "code",
   "execution_count": 13,
   "id": "f638299a-a9db-4896-9f58-c7441e9ca58d",
   "metadata": {},
   "outputs": [
    {
     "name": "stdout",
     "output_type": "stream",
     "text": [
      "3\n"
     ]
    }
   ],
   "source": [
    "print(z)"
   ]
  },
  {
   "cell_type": "code",
   "execution_count": null,
   "id": "7599107e-af2d-4721-af42-6ee83145b853",
   "metadata": {},
   "outputs": [],
   "source": []
  }
 ],
 "metadata": {
  "kernelspec": {
   "display_name": "Python (.venv - useful-pandas-code)",
   "language": "python",
   "name": "useful-pandas-code"
  },
  "language_info": {
   "codemirror_mode": {
    "name": "ipython",
    "version": 3
   },
   "file_extension": ".py",
   "mimetype": "text/x-python",
   "name": "python",
   "nbconvert_exporter": "python",
   "pygments_lexer": "ipython3",
   "version": "3.10.12"
  }
 },
 "nbformat": 4,
 "nbformat_minor": 5
}
