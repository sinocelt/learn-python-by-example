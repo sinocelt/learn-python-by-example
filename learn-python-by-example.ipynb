{
 "cells": [
  {
   "cell_type": "markdown",
   "id": "6b5df320-101d-4024-971a-71c56b3059b2",
   "metadata": {},
   "source": [
    "# Learn Python by Example 💻🐍"
   ]
  },
  {
   "cell_type": "markdown",
   "id": "9d4e2e58-a53c-4f1a-b7a7-d09811491d4c",
   "metadata": {},
   "source": [
    "By Justin Barry <br/>\n",
    "https://watsontechworld.com"
   ]
  },
  {
   "cell_type": "markdown",
   "id": "870fc2ca-8a49-4464-95b4-ab6efec03dac",
   "metadata": {},
   "source": [
    "# Note: this book has been put on hold. I probably won't be able to finish it until 2026 at least"
   ]
  },
  {
   "cell_type": "markdown",
   "id": "87ef7d7f-6003-485a-9dd7-0f4c1a737f0c",
   "metadata": {},
   "source": [
    "Welcome to Python!!! Python is a wonderful programming language in my opinion. It is one of the most popular languages in the world, and is also one of the easiest to learn!\n",
    "\n",
    "With Python, you can do almost anything from making cool games, making websites, and working on complex things like data science, AI, and more!\n",
    "\n",
    "Python is now a top language for business people, scientists, and so much more.\n",
    "\n",
    "I believe that the best way to learn Python is by doing. That is to say, you learn by actually coding yourself. I hope this book can be a catalyst for you learning this wonderful language. I recommend you try out the code on your own, and don't just read this book like any other book.\n",
    "\n",
    "To learn Python, you learn to actively learn it by actually coding. This book is meant to give you foundations to get started, and show you some cool things you can do with Python.\n",
    "\n",
    "You might even learn to love Python like I have."
   ]
  },
  {
   "cell_type": "code",
   "execution_count": null,
   "id": "0a59c151-3552-459a-ab18-500642e66ae8",
   "metadata": {},
   "outputs": [],
   "source": []
  },
  {
   "cell_type": "markdown",
   "id": "40cd148b-4e33-44c9-aaea-0b52aab7aa1a",
   "metadata": {},
   "source": [
    "# Why Python?"
   ]
  },
  {
   "cell_type": "markdown",
   "id": "f4bc5e33-e3fb-41dd-93c5-cdf4b474f3df",
   "metadata": {},
   "source": [
    "There are many programming languages. Why learn Python?\n",
    "\n",
    "Here are some top features of Python that make it appealing\n",
    "* It's easy and fast to learn\n",
    "* Its syntax (rules of the language) are much easier to learn compared with languages like C++ or Java\n",
    "* It's extremely popular (according to Tiobe.com, it is the most popular programming langauge in 2024 and 2025 https://www.tiobe.com/tiobe-index/)\n",
    "* It's in high demand for jobs\n",
    "* It's one of the main languages for AI, machine learning, and data science\n",
    "* It's free to use\n",
    "* It's open source"
   ]
  },
  {
   "cell_type": "code",
   "execution_count": null,
   "id": "f7ec1558-a5a0-4e59-ae4a-bc416fa6aed1",
   "metadata": {},
   "outputs": [],
   "source": []
  },
  {
   "cell_type": "markdown",
   "id": "77fddb38-df21-4398-a58f-762af5310695",
   "metadata": {},
   "source": [
    "# The print() function "
   ]
  },
  {
   "cell_type": "markdown",
   "id": "c7ec7f6f-2ead-43bb-90a6-3cc8ab13c013",
   "metadata": {},
   "source": [
    "The print function is one of the most important and most useful functions in Python. It allows you to output to the console to use useful information"
   ]
  },
  {
   "cell_type": "markdown",
   "id": "88249d65-9f98-4863-bd7e-da46015b872a",
   "metadata": {},
   "source": [
    "For example, we can print out numbers, text, and more to the console"
   ]
  },
  {
   "cell_type": "code",
   "execution_count": 1,
   "id": "532de9c5-c7aa-43ab-80ec-d44583e7e0f7",
   "metadata": {},
   "outputs": [],
   "source": [
    "# print out the number 1 to the console"
   ]
  },
  {
   "cell_type": "code",
   "execution_count": 2,
   "id": "b665e4dc-a912-4cfb-bdf9-cc66808852d8",
   "metadata": {},
   "outputs": [
    {
     "name": "stdout",
     "output_type": "stream",
     "text": [
      "1\n"
     ]
    }
   ],
   "source": [
    "print(1)"
   ]
  },
  {
   "cell_type": "markdown",
   "id": "6d2965c1-4a39-43c5-988e-8ba4de885eeb",
   "metadata": {},
   "source": [
    "Print out the message hello world! to the console"
   ]
  },
  {
   "cell_type": "code",
   "execution_count": 3,
   "id": "2c7e06b7-f8f0-456d-8d8c-374a41c32e5b",
   "metadata": {},
   "outputs": [
    {
     "name": "stdout",
     "output_type": "stream",
     "text": [
      "hello world!\n"
     ]
    }
   ],
   "source": [
    "print(\"hello world!\")"
   ]
  },
  {
   "cell_type": "code",
   "execution_count": null,
   "id": "3dfe751a-bdee-4f21-ad33-2ab81e46e316",
   "metadata": {},
   "outputs": [],
   "source": []
  },
  {
   "cell_type": "markdown",
   "id": "e5527e7a-a667-4098-8d2a-e6d07ba0f4c3",
   "metadata": {},
   "source": [
    "# Basic arithmetic"
   ]
  },
  {
   "cell_type": "markdown",
   "id": "a8ac0fef-d2e5-4ca6-b1b4-b8bd5345e7df",
   "metadata": {},
   "source": [
    "We can use Python to add (+), subtract(-), multiply(divide (/), exponent (**) and much more!"
   ]
  },
  {
   "cell_type": "markdown",
   "id": "8b75f607-b395-4b3f-b9e1-002b25ad8ff9",
   "metadata": {},
   "source": [
    "For example, let's add 1 and 2 together"
   ]
  },
  {
   "cell_type": "code",
   "execution_count": 4,
   "id": "6786425d-e8d1-4cbd-96c1-b5ee422d0c43",
   "metadata": {},
   "outputs": [
    {
     "name": "stdout",
     "output_type": "stream",
     "text": [
      "3\n"
     ]
    }
   ],
   "source": [
    "print(1+2)"
   ]
  },
  {
   "cell_type": "markdown",
   "id": "13e6a4ed-3652-458e-8fa0-c7c3cde61acf",
   "metadata": {},
   "source": [
    "Subtract 4 from 10"
   ]
  },
  {
   "cell_type": "code",
   "execution_count": 5,
   "id": "2844b152-b598-41c6-99b2-ba70e843f1ae",
   "metadata": {},
   "outputs": [
    {
     "name": "stdout",
     "output_type": "stream",
     "text": [
      "6\n"
     ]
    }
   ],
   "source": [
    "print(10-4)"
   ]
  },
  {
   "cell_type": "markdown",
   "id": "3690b3b9-b2bf-4579-9527-35b5881db47c",
   "metadata": {},
   "source": [
    "Multiply 10 and 20 together"
   ]
  },
  {
   "cell_type": "code",
   "execution_count": 6,
   "id": "c01a0926-1005-4203-b4cf-e9137947b4a1",
   "metadata": {},
   "outputs": [
    {
     "name": "stdout",
     "output_type": "stream",
     "text": [
      "200\n"
     ]
    }
   ],
   "source": [
    "print(10*20)"
   ]
  },
  {
   "cell_type": "markdown",
   "id": "da4a2818-c897-45ba-892e-330e2445c0ab",
   "metadata": {},
   "source": [
    "Divide 100 by 50"
   ]
  },
  {
   "cell_type": "code",
   "execution_count": 7,
   "id": "4e466570-b17d-475c-98e4-191ac5ffe0c2",
   "metadata": {},
   "outputs": [
    {
     "name": "stdout",
     "output_type": "stream",
     "text": [
      "2.0\n"
     ]
    }
   ],
   "source": [
    "print(100/50)"
   ]
  },
  {
   "cell_type": "markdown",
   "id": "95444890-7e91-4289-b18d-87488382e9e3",
   "metadata": {},
   "source": [
    "Show 5 to the 3rd power (5 ^ 3)"
   ]
  },
  {
   "cell_type": "code",
   "execution_count": 8,
   "id": "a61e0323-c7b5-4b2e-9bd9-6e3883773b17",
   "metadata": {},
   "outputs": [
    {
     "name": "stdout",
     "output_type": "stream",
     "text": [
      "125\n"
     ]
    }
   ],
   "source": [
    "print(5**3)"
   ]
  },
  {
   "cell_type": "code",
   "execution_count": null,
   "id": "24b183d9-77cd-4640-8c64-cac24a28e057",
   "metadata": {},
   "outputs": [],
   "source": []
  },
  {
   "cell_type": "markdown",
   "id": "f4ade3e7-d37b-4032-b0b0-1a43b2e3096f",
   "metadata": {},
   "source": [
    "# Python variables"
   ]
  },
  {
   "cell_type": "markdown",
   "id": "3e9db95c-154f-48c7-b5e3-08b535c93370",
   "metadata": {},
   "source": [
    "Variables are a way to store data you want to reuse later. They are an incredibly useful thing to have in Python"
   ]
  },
  {
   "cell_type": "code",
   "execution_count": 9,
   "id": "4597ecde-ab8e-4165-b4cc-211c3a9ce7a1",
   "metadata": {},
   "outputs": [],
   "source": [
    "# examples\n",
    "x = 1\n",
    "y = 2"
   ]
  },
  {
   "cell_type": "markdown",
   "id": "e4a5af1e-6f58-4981-a234-c8f6ea16737a",
   "metadata": {},
   "source": [
    "Above, we assigned the variable x to the number 1 and we assigned the variable y to the number 2. Let's print out x and y now"
   ]
  },
  {
   "cell_type": "code",
   "execution_count": 10,
   "id": "a1d0bfb1-872e-40c2-ad30-c74e0ed0060c",
   "metadata": {},
   "outputs": [
    {
     "name": "stdout",
     "output_type": "stream",
     "text": [
      "1\n",
      "2\n"
     ]
    }
   ],
   "source": [
    "print(x)\n",
    "print(y)"
   ]
  },
  {
   "cell_type": "markdown",
   "id": "64ccf393-9a2d-41f3-b798-9bc49e32561a",
   "metadata": {},
   "source": [
    "Now lets add x and y together and print their sum"
   ]
  },
  {
   "cell_type": "code",
   "execution_count": 11,
   "id": "c91d2bb2-bb36-4195-8874-04e39ffeec2a",
   "metadata": {},
   "outputs": [
    {
     "name": "stdout",
     "output_type": "stream",
     "text": [
      "3\n"
     ]
    }
   ],
   "source": [
    "print(x+y)"
   ]
  },
  {
   "cell_type": "markdown",
   "id": "d0e835de-7095-47d6-b7f5-6be97d318e3d",
   "metadata": {},
   "source": [
    "Now let's add x and y together, and then assign their sum to another variable, z. Later let's print out z"
   ]
  },
  {
   "cell_type": "code",
   "execution_count": 12,
   "id": "c1f3b1c2-b7a5-4b15-a7c3-8436d158a9e0",
   "metadata": {},
   "outputs": [],
   "source": [
    "z = x + y"
   ]
  },
  {
   "cell_type": "code",
   "execution_count": 13,
   "id": "f638299a-a9db-4896-9f58-c7441e9ca58d",
   "metadata": {},
   "outputs": [
    {
     "name": "stdout",
     "output_type": "stream",
     "text": [
      "3\n"
     ]
    }
   ],
   "source": [
    "print(z)"
   ]
  },
  {
   "cell_type": "code",
   "execution_count": null,
   "id": "7599107e-af2d-4721-af42-6ee83145b853",
   "metadata": {},
   "outputs": [],
   "source": []
  },
  {
   "cell_type": "code",
   "execution_count": null,
   "id": "53dc5ee3-1456-49b4-943a-3328c8bdf5f3",
   "metadata": {},
   "outputs": [],
   "source": []
  },
  {
   "cell_type": "code",
   "execution_count": null,
   "id": "0aeee4aa-9631-45f9-a1a8-fd56fea66fe4",
   "metadata": {},
   "outputs": [],
   "source": []
  },
  {
   "cell_type": "markdown",
   "id": "9dcd5b9d-1c0c-4ec3-aa66-f51de145c6d7",
   "metadata": {},
   "source": [
    "# Datatypes"
   ]
  },
  {
   "cell_type": "markdown",
   "id": "d7010eac-2a0d-4a5c-b1d1-5f327554ee33",
   "metadata": {},
   "source": [
    "Note: You can find out the datatype of any variable with the type function. For example"
   ]
  },
  {
   "cell_type": "code",
   "execution_count": 1,
   "id": "1eb2e898-3b16-44ae-b1f7-7856f498c7c0",
   "metadata": {},
   "outputs": [],
   "source": [
    "x = 1\n",
    "xa = 1.2\n",
    "y = 'hello'\n",
    "z = [1,2,3,4]\n",
    "a = {'first': 1, 'second': 2}\n",
    "b = (1, 2, 3)"
   ]
  },
  {
   "cell_type": "code",
   "execution_count": 3,
   "id": "5cca778d-eda2-46f8-afec-2f1995e0af0d",
   "metadata": {},
   "outputs": [
    {
     "name": "stdout",
     "output_type": "stream",
     "text": [
      "<class 'int'>\n",
      "<class 'float'>\n",
      "<class 'str'>\n",
      "<class 'list'>\n",
      "<class 'dict'>\n",
      "<class 'tuple'>\n"
     ]
    }
   ],
   "source": [
    "print(type(x))\n",
    "print(type(xa))\n",
    "print(type(y))\n",
    "print(type(z))\n",
    "print(type(a))\n",
    "print(type(b))"
   ]
  },
  {
   "cell_type": "code",
   "execution_count": null,
   "id": "671a4e14-de4d-433d-9b2c-c8043ba71142",
   "metadata": {},
   "outputs": [],
   "source": []
  },
  {
   "cell_type": "code",
   "execution_count": null,
   "id": "35ea31e7-2c80-49ca-8026-a2fd5caa8036",
   "metadata": {},
   "outputs": [],
   "source": []
  },
  {
   "cell_type": "markdown",
   "id": "720183ec-4018-4186-8bec-477794347ea4",
   "metadata": {},
   "source": [
    "* int\n",
    "* float\n",
    "* string\n",
    "* list\n",
    "* dictionary\n",
    "* tuple"
   ]
  },
  {
   "cell_type": "code",
   "execution_count": null,
   "id": "c790af19-1508-445d-9e4c-927fc9d19352",
   "metadata": {},
   "outputs": [],
   "source": []
  },
  {
   "cell_type": "markdown",
   "id": "c564a12e-f6a5-4533-ba76-c1f817b645a5",
   "metadata": {},
   "source": [
    "# Integers"
   ]
  },
  {
   "cell_type": "markdown",
   "id": "94d18dbe-a006-48a4-abe0-ca07e15064ec",
   "metadata": {},
   "source": [
    "Integers, are simply numbers like 0, 1, 2, 3, ... and -1, -2, -3, -4, ... <br/>\n",
    "They are whole numbers without an decimals.<br/>"
   ]
  },
  {
   "cell_type": "code",
   "execution_count": 11,
   "id": "57a8ddf4-1fb7-44ae-b501-b9688e09e5f9",
   "metadata": {},
   "outputs": [],
   "source": [
    "x = 1\n",
    "y = 12\n",
    "z = x + y"
   ]
  },
  {
   "cell_type": "code",
   "execution_count": 12,
   "id": "5fa7ed36-24b7-4a98-9e68-a08bfa4cadf3",
   "metadata": {},
   "outputs": [
    {
     "name": "stdout",
     "output_type": "stream",
     "text": [
      "1\n",
      "<class 'int'>\n",
      "12\n",
      "<class 'int'>\n",
      "13\n",
      "<class 'int'>\n"
     ]
    }
   ],
   "source": [
    "print(x)\n",
    "print(type(x))\n",
    "\n",
    "print(y)\n",
    "print(type(y))\n",
    "\n",
    "print(z)\n",
    "print(type(z))"
   ]
  },
  {
   "cell_type": "markdown",
   "id": "d4dee08f-606b-4ce2-8f6d-9522ddd61dcf",
   "metadata": {},
   "source": [
    "Note that adding 2 integers will give you another integer. But, later if you add an integer and a float, the resulting number will be a float."
   ]
  },
  {
   "cell_type": "code",
   "execution_count": null,
   "id": "0b6336f5-34a8-4d98-afb0-b35170f704b3",
   "metadata": {},
   "outputs": [],
   "source": []
  },
  {
   "cell_type": "markdown",
   "id": "55b00dcd-c1f4-4f14-89b5-69acf9258b9b",
   "metadata": {},
   "source": [
    "# Floats"
   ]
  },
  {
   "cell_type": "markdown",
   "id": "d79e6abf-26e9-4fe4-b7be-af610f9fa76c",
   "metadata": {},
   "source": [
    "You can think of a float kind of like a `real` number in mathematics. Basically any number -1, -2.55555, 0, 100, pi, and any other number that is not a complex number is a real number."
   ]
  },
  {
   "cell_type": "code",
   "execution_count": null,
   "id": "4246880b-041f-4849-98e3-613e135f2232",
   "metadata": {},
   "outputs": [],
   "source": []
  },
  {
   "cell_type": "code",
   "execution_count": null,
   "id": "9785170b-75e7-4021-b8a5-8ac3b6bc2681",
   "metadata": {},
   "outputs": [],
   "source": []
  },
  {
   "cell_type": "code",
   "execution_count": null,
   "id": "a7649f74-b176-4078-8d6a-dd1571456658",
   "metadata": {},
   "outputs": [],
   "source": []
  },
  {
   "cell_type": "markdown",
   "id": "c1c4983d-2676-4f1d-81ea-11c6bd91480d",
   "metadata": {},
   "source": [
    "# Converting between datatypes"
   ]
  },
  {
   "cell_type": "markdown",
   "id": "1ac90c21-d34f-4f8e-ac74-af9b66c5bd23",
   "metadata": {},
   "source": [
    "You can convert a float or a string datatype into an integer with the `int` function. For example:"
   ]
  },
  {
   "cell_type": "code",
   "execution_count": 4,
   "id": "bc024296-50b3-4bf0-ac5b-02fca6106126",
   "metadata": {},
   "outputs": [],
   "source": [
    "string_example = '1'\n",
    "float_example = 5.5"
   ]
  },
  {
   "cell_type": "code",
   "execution_count": 5,
   "id": "9c57e030-0270-4b15-8739-b81fc4c1c210",
   "metadata": {},
   "outputs": [
    {
     "name": "stdout",
     "output_type": "stream",
     "text": [
      "1\n",
      "<class 'str'>\n"
     ]
    }
   ],
   "source": [
    "print(string_example)\n",
    "print(type(string_example))"
   ]
  },
  {
   "cell_type": "code",
   "execution_count": 6,
   "id": "92af17b4-8ca5-43fb-93ad-0da8c91eb990",
   "metadata": {},
   "outputs": [
    {
     "name": "stdout",
     "output_type": "stream",
     "text": [
      "5.5\n",
      "<class 'float'>\n"
     ]
    }
   ],
   "source": [
    "print(float_example)\n",
    "print(type(float_example))"
   ]
  },
  {
   "cell_type": "code",
   "execution_count": null,
   "id": "8f3c0f66-d7a7-4ffd-8cb1-04ac4c6547f1",
   "metadata": {},
   "outputs": [],
   "source": [
    "# now lets convert them to integers"
   ]
  },
  {
   "cell_type": "code",
   "execution_count": 7,
   "id": "caf4e8f1-0964-415f-8ec1-0cf23b15b494",
   "metadata": {},
   "outputs": [
    {
     "name": "stdout",
     "output_type": "stream",
     "text": [
      "1\n",
      "<class 'int'>\n"
     ]
    }
   ],
   "source": [
    "string_example_as_integer = int(string_example)\n",
    "print(string_example_as_integer)\n",
    "print(type(string_example_as_integer))"
   ]
  },
  {
   "cell_type": "markdown",
   "id": "aecc7007-be60-4f10-a4a4-b348250c41ee",
   "metadata": {},
   "source": [
    "Note that for a float, the decimal part will be dropped when you use the `int` function"
   ]
  },
  {
   "cell_type": "code",
   "execution_count": 9,
   "id": "bf6dd28f-c24d-4449-b415-3a60c72c6a74",
   "metadata": {},
   "outputs": [
    {
     "name": "stdout",
     "output_type": "stream",
     "text": [
      "5\n",
      "<class 'int'>\n"
     ]
    }
   ],
   "source": [
    "float_example_as_integer = int(float_example)\n",
    "print(float_example_as_integer)\n",
    "print(type(float_example_as_integer))"
   ]
  },
  {
   "cell_type": "code",
   "execution_count": null,
   "id": "24373d50-00cd-47b0-abed-cfed245b91e7",
   "metadata": {},
   "outputs": [],
   "source": []
  },
  {
   "cell_type": "markdown",
   "id": "f39272fe-8e5c-4346-b2bc-ef399847a679",
   "metadata": {},
   "source": [
    "# Example of int:\n",
    "x = 1"
   ]
  },
  {
   "cell_type": "markdown",
   "id": "523a6936-0107-426c-9a3f-479da66793db",
   "metadata": {},
   "source": [
    "# Example of float:\n",
    "x = 1.1"
   ]
  },
  {
   "cell_type": "code",
   "execution_count": 16,
   "id": "9be3051a-0e30-4726-8d75-d38abd220508",
   "metadata": {},
   "outputs": [
    {
     "name": "stdout",
     "output_type": "stream",
     "text": [
      "1.1\n"
     ]
    }
   ],
   "source": [
    "# Example of float:\n",
    "x = 1.1\n",
    "print(x)"
   ]
  },
  {
   "cell_type": "code",
   "execution_count": 17,
   "id": "b80c3f34-3b09-45cd-88bb-238975deb279",
   "metadata": {},
   "outputs": [
    {
     "name": "stdout",
     "output_type": "stream",
     "text": [
      "This is a string\n"
     ]
    }
   ],
   "source": [
    "# Example of string:\n",
    "s = 'This is a string'\n",
    "print(s)"
   ]
  },
  {
   "cell_type": "code",
   "execution_count": 18,
   "id": "4c41ac78-939d-41e0-b959-7f4f70e39a7e",
   "metadata": {},
   "outputs": [],
   "source": [
    "# examples of "
   ]
  },
  {
   "cell_type": "code",
   "execution_count": null,
   "id": "8b9c102e-f782-47fe-a285-66b57cfb1a30",
   "metadata": {},
   "outputs": [],
   "source": []
  },
  {
   "cell_type": "markdown",
   "id": "fa3e587b-af04-4ea7-abb3-855099e17d40",
   "metadata": {},
   "source": [
    "# example of lists\n"
   ]
  },
  {
   "cell_type": "code",
   "execution_count": 19,
   "id": "f8f8fb31-1e59-4bc6-8d8f-a6d7efbbbd79",
   "metadata": {},
   "outputs": [],
   "source": [
    "# example of lists\n",
    "a = [1,2,3,4]\n",
    "b = ['hi there', 'a', 1,2,34]"
   ]
  },
  {
   "cell_type": "code",
   "execution_count": null,
   "id": "eea7796f-dae3-4c2d-9478-c339c4b9706e",
   "metadata": {},
   "outputs": [],
   "source": []
  },
  {
   "cell_type": "markdown",
   "id": "ed9283fa-4347-4aa3-be0f-363b5e1f883d",
   "metadata": {},
   "source": [
    "# Dictionary examples"
   ]
  },
  {
   "cell_type": "code",
   "execution_count": null,
   "id": "68790e23-0ada-4f47-9742-1dca5fd11d35",
   "metadata": {},
   "outputs": [],
   "source": []
  },
  {
   "cell_type": "code",
   "execution_count": 16,
   "id": "2f5902e6-ff70-4d84-9b23-6120aa4ae9d8",
   "metadata": {},
   "outputs": [],
   "source": [
    "grocery_prices = {\n",
    "    'apple': 1.5,\n",
    "    'banana': 0.5,\n",
    "    'avocado': 1,\n",
    "    'wine bottle': 10,\n",
    "    'water bottle': 0.2,\n",
    "    # green apple emoji as a key\n",
    "    '🍏': 2,\n",
    "    # tangerine as a key\n",
    "    '🍊': 1,\n",
    "    'dog food': 5,\n",
    "    'soup': 4,\n",
    "    'greeting': 'welcome customers'\n",
    "}"
   ]
  },
  {
   "cell_type": "code",
   "execution_count": 17,
   "id": "a2c26a08-3be9-44e1-909b-ef563ab81b40",
   "metadata": {},
   "outputs": [
    {
     "data": {
      "text/plain": [
       "{'apple': 1.5,\n",
       " 'banana': 0.5,\n",
       " 'avocado': 1,\n",
       " 'wine bottle': 10,\n",
       " 'water bottle': 0.2,\n",
       " '🍏': 2,\n",
       " '🍊': 1,\n",
       " 'dog food': 5,\n",
       " 'soup': 4,\n",
       " 'greeting': 'welcome customers'}"
      ]
     },
     "execution_count": 17,
     "metadata": {},
     "output_type": "execute_result"
    }
   ],
   "source": [
    "grocery_prices"
   ]
  },
  {
   "cell_type": "markdown",
   "id": "27161d89-ea17-444e-b4ca-d7b711448d69",
   "metadata": {},
   "source": [
    "How are dictionaries made?\n",
    "All dictionaries start with a `{` and end with a `}`"
   ]
  },
  {
   "cell_type": "code",
   "execution_count": null,
   "id": "70694b59-c7ba-4e8d-9385-c6b49512e90b",
   "metadata": {},
   "outputs": [],
   "source": []
  },
  {
   "cell_type": "code",
   "execution_count": null,
   "id": "f04c16c1-a214-431a-8b99-8b0fc9480891",
   "metadata": {},
   "outputs": [],
   "source": []
  },
  {
   "cell_type": "markdown",
   "id": "7fa197b0-f473-46e2-9170-5866928736fb",
   "metadata": {},
   "source": [
    "# Functions"
   ]
  },
  {
   "cell_type": "markdown",
   "id": "b3f3c96d-6b32-41f9-a1d2-767a3dc52069",
   "metadata": {},
   "source": [
    "All Python functions start with the `def` keyword"
   ]
  },
  {
   "cell_type": "markdown",
   "id": "5585d418-635f-467d-849b-63484a097e45",
   "metadata": {},
   "source": [
    "example function to concatenate 2 strings together"
   ]
  },
  {
   "cell_type": "code",
   "execution_count": 21,
   "id": "a525a6c7-caf7-4506-be04-d80755850b07",
   "metadata": {},
   "outputs": [],
   "source": [
    "def concatenate(string_a, string_b):\n",
    "    return string_a + string_b"
   ]
  },
  {
   "cell_type": "code",
   "execution_count": 22,
   "id": "a6bf35a2-0331-4214-bb26-662eb8a91e8a",
   "metadata": {},
   "outputs": [
    {
     "data": {
      "text/plain": [
       "'helloworld'"
      ]
     },
     "execution_count": 22,
     "metadata": {},
     "output_type": "execute_result"
    }
   ],
   "source": [
    "concatenate('hello', 'world')"
   ]
  },
  {
   "cell_type": "code",
   "execution_count": null,
   "id": "4a4a85d2-d4dc-482c-9fbb-71f6004740cc",
   "metadata": {},
   "outputs": [],
   "source": []
  },
  {
   "cell_type": "code",
   "execution_count": null,
   "id": "2a98206c-8f80-44a2-8186-4aadd13bbbff",
   "metadata": {},
   "outputs": [],
   "source": [
    "# def factorial(n):\n",
    "#     cur_factorial = 1\n",
    "#     if n == 0 or n == 1:\n",
    "#         return 1\n",
    "#     else:\n",
    "#         cur_factorial = n * c"
   ]
  },
  {
   "cell_type": "code",
   "execution_count": null,
   "id": "b63e5fc5-cd9d-4df2-8893-3ec55e95161b",
   "metadata": {},
   "outputs": [],
   "source": []
  },
  {
   "cell_type": "code",
   "execution_count": null,
   "id": "c7b0b604-6a44-4b47-b952-f6b21b6b8992",
   "metadata": {},
   "outputs": [],
   "source": []
  },
  {
   "cell_type": "markdown",
   "id": "43e0e8cd-c7f8-4561-a686-5a5a80c30b4e",
   "metadata": {},
   "source": [
    "# Classes"
   ]
  },
  {
   "cell_type": "markdown",
   "id": "4426b546-8513-4f3f-8446-dfd477ff69d2",
   "metadata": {},
   "source": [
    "## methods"
   ]
  },
  {
   "cell_type": "code",
   "execution_count": null,
   "id": "1f716af1-9852-40d2-81ba-dc6f754907bf",
   "metadata": {},
   "outputs": [],
   "source": []
  },
  {
   "cell_type": "code",
   "execution_count": null,
   "id": "6b61316c-7c72-46ab-af5f-242d6cd0acb8",
   "metadata": {},
   "outputs": [],
   "source": []
  },
  {
   "cell_type": "code",
   "execution_count": null,
   "id": "fd4b6b85-df21-4c12-a6fd-ced330ac6f2f",
   "metadata": {},
   "outputs": [],
   "source": []
  },
  {
   "cell_type": "markdown",
   "id": "175cae87-1178-4698-8277-efc1364e899b",
   "metadata": {},
   "source": [
    "# Unsorted Ideas"
   ]
  },
  {
   "cell_type": "markdown",
   "id": "0adb71f4-463f-427b-9c72-a3b6bb2100ef",
   "metadata": {},
   "source": [
    "* Let users run code on playground.watsontechworld.com????"
   ]
  },
  {
   "cell_type": "markdown",
   "id": "2bf1455e-10cf-45fe-a300-44d802cd43f0",
   "metadata": {},
   "source": [
    "# Debugging ???"
   ]
  },
  {
   "cell_type": "code",
   "execution_count": null,
   "id": "5c5a7555-3e85-4995-ad73-d92f85cd7dc8",
   "metadata": {},
   "outputs": [],
   "source": []
  },
  {
   "cell_type": "code",
   "execution_count": null,
   "id": "39b8094c-2914-40ad-97b2-e5c3c214ab90",
   "metadata": {},
   "outputs": [],
   "source": [
    "# Appendix"
   ]
  },
  {
   "cell_type": "code",
   "execution_count": null,
   "id": "409e28e0-2f22-4d18-b4d0-a62f22ef45f4",
   "metadata": {},
   "outputs": [],
   "source": [
    "## Additional useful functions"
   ]
  },
  {
   "cell_type": "markdown",
   "id": "e23ddeac-6108-4f52-9247-26cf3d6d515c",
   "metadata": {},
   "source": [
    "`help`\n",
    "The help function gives help on functions that you pass in. For example, you can get help on the str() function seen below"
   ]
  },
  {
   "cell_type": "code",
   "execution_count": 2,
   "id": "c892e750-2ba7-415b-81eb-ead698b039d3",
   "metadata": {},
   "outputs": [
    {
     "name": "stdout",
     "output_type": "stream",
     "text": [
      "Help on class str in module builtins:\n",
      "\n",
      "class str(object)\n",
      " |  str(object='') -> str\n",
      " |  str(bytes_or_buffer[, encoding[, errors]]) -> str\n",
      " |  \n",
      " |  Create a new string object from the given object. If encoding or\n",
      " |  errors is specified, then the object must expose a data buffer\n",
      " |  that will be decoded using the given encoding and error handler.\n",
      " |  Otherwise, returns the result of object.__str__() (if defined)\n",
      " |  or repr(object).\n",
      " |  encoding defaults to sys.getdefaultencoding().\n",
      " |  errors defaults to 'strict'.\n",
      " |  \n",
      " |  Methods defined here:\n",
      " |  \n",
      " |  __add__(self, value, /)\n",
      " |      Return self+value.\n",
      " |  \n",
      " |  __contains__(self, key, /)\n",
      " |      Return key in self.\n",
      " |  \n",
      " |  __eq__(self, value, /)\n",
      " |      Return self==value.\n",
      " |  \n",
      " |  __format__(self, format_spec, /)\n",
      " |      Return a formatted version of the string as described by format_spec.\n",
      " |  \n",
      " |  __ge__(self, value, /)\n",
      " |      Return self>=value.\n",
      " |  \n",
      " |  __getattribute__(self, name, /)\n",
      " |      Return getattr(self, name).\n",
      " |  \n",
      " |  __getitem__(self, key, /)\n",
      " |      Return self[key].\n",
      " |  \n",
      " |  __getnewargs__(...)\n",
      " |  \n",
      " |  __gt__(self, value, /)\n",
      " |      Return self>value.\n",
      " |  \n",
      " |  __hash__(self, /)\n",
      " |      Return hash(self).\n",
      " |  \n",
      " |  __iter__(self, /)\n",
      " |      Implement iter(self).\n",
      " |  \n",
      " |  __le__(self, value, /)\n",
      " |      Return self<=value.\n",
      " |  \n",
      " |  __len__(self, /)\n",
      " |      Return len(self).\n",
      " |  \n",
      " |  __lt__(self, value, /)\n",
      " |      Return self<value.\n",
      " |  \n",
      " |  __mod__(self, value, /)\n",
      " |      Return self%value.\n",
      " |  \n",
      " |  __mul__(self, value, /)\n",
      " |      Return self*value.\n",
      " |  \n",
      " |  __ne__(self, value, /)\n",
      " |      Return self!=value.\n",
      " |  \n",
      " |  __repr__(self, /)\n",
      " |      Return repr(self).\n",
      " |  \n",
      " |  __rmod__(self, value, /)\n",
      " |      Return value%self.\n",
      " |  \n",
      " |  __rmul__(self, value, /)\n",
      " |      Return value*self.\n",
      " |  \n",
      " |  __sizeof__(self, /)\n",
      " |      Return the size of the string in memory, in bytes.\n",
      " |  \n",
      " |  __str__(self, /)\n",
      " |      Return str(self).\n",
      " |  \n",
      " |  capitalize(self, /)\n",
      " |      Return a capitalized version of the string.\n",
      " |      \n",
      " |      More specifically, make the first character have upper case and the rest lower\n",
      " |      case.\n",
      " |  \n",
      " |  casefold(self, /)\n",
      " |      Return a version of the string suitable for caseless comparisons.\n",
      " |  \n",
      " |  center(self, width, fillchar=' ', /)\n",
      " |      Return a centered string of length width.\n",
      " |      \n",
      " |      Padding is done using the specified fill character (default is a space).\n",
      " |  \n",
      " |  count(...)\n",
      " |      S.count(sub[, start[, end]]) -> int\n",
      " |      \n",
      " |      Return the number of non-overlapping occurrences of substring sub in\n",
      " |      string S[start:end].  Optional arguments start and end are\n",
      " |      interpreted as in slice notation.\n",
      " |  \n",
      " |  encode(self, /, encoding='utf-8', errors='strict')\n",
      " |      Encode the string using the codec registered for encoding.\n",
      " |      \n",
      " |      encoding\n",
      " |        The encoding in which to encode the string.\n",
      " |      errors\n",
      " |        The error handling scheme to use for encoding errors.\n",
      " |        The default is 'strict' meaning that encoding errors raise a\n",
      " |        UnicodeEncodeError.  Other possible values are 'ignore', 'replace' and\n",
      " |        'xmlcharrefreplace' as well as any other name registered with\n",
      " |        codecs.register_error that can handle UnicodeEncodeErrors.\n",
      " |  \n",
      " |  endswith(...)\n",
      " |      S.endswith(suffix[, start[, end]]) -> bool\n",
      " |      \n",
      " |      Return True if S ends with the specified suffix, False otherwise.\n",
      " |      With optional start, test S beginning at that position.\n",
      " |      With optional end, stop comparing S at that position.\n",
      " |      suffix can also be a tuple of strings to try.\n",
      " |  \n",
      " |  expandtabs(self, /, tabsize=8)\n",
      " |      Return a copy where all tab characters are expanded using spaces.\n",
      " |      \n",
      " |      If tabsize is not given, a tab size of 8 characters is assumed.\n",
      " |  \n",
      " |  find(...)\n",
      " |      S.find(sub[, start[, end]]) -> int\n",
      " |      \n",
      " |      Return the lowest index in S where substring sub is found,\n",
      " |      such that sub is contained within S[start:end].  Optional\n",
      " |      arguments start and end are interpreted as in slice notation.\n",
      " |      \n",
      " |      Return -1 on failure.\n",
      " |  \n",
      " |  format(...)\n",
      " |      S.format(*args, **kwargs) -> str\n",
      " |      \n",
      " |      Return a formatted version of S, using substitutions from args and kwargs.\n",
      " |      The substitutions are identified by braces ('{' and '}').\n",
      " |  \n",
      " |  format_map(...)\n",
      " |      S.format_map(mapping) -> str\n",
      " |      \n",
      " |      Return a formatted version of S, using substitutions from mapping.\n",
      " |      The substitutions are identified by braces ('{' and '}').\n",
      " |  \n",
      " |  index(...)\n",
      " |      S.index(sub[, start[, end]]) -> int\n",
      " |      \n",
      " |      Return the lowest index in S where substring sub is found,\n",
      " |      such that sub is contained within S[start:end].  Optional\n",
      " |      arguments start and end are interpreted as in slice notation.\n",
      " |      \n",
      " |      Raises ValueError when the substring is not found.\n",
      " |  \n",
      " |  isalnum(self, /)\n",
      " |      Return True if the string is an alpha-numeric string, False otherwise.\n",
      " |      \n",
      " |      A string is alpha-numeric if all characters in the string are alpha-numeric and\n",
      " |      there is at least one character in the string.\n",
      " |  \n",
      " |  isalpha(self, /)\n",
      " |      Return True if the string is an alphabetic string, False otherwise.\n",
      " |      \n",
      " |      A string is alphabetic if all characters in the string are alphabetic and there\n",
      " |      is at least one character in the string.\n",
      " |  \n",
      " |  isascii(self, /)\n",
      " |      Return True if all characters in the string are ASCII, False otherwise.\n",
      " |      \n",
      " |      ASCII characters have code points in the range U+0000-U+007F.\n",
      " |      Empty string is ASCII too.\n",
      " |  \n",
      " |  isdecimal(self, /)\n",
      " |      Return True if the string is a decimal string, False otherwise.\n",
      " |      \n",
      " |      A string is a decimal string if all characters in the string are decimal and\n",
      " |      there is at least one character in the string.\n",
      " |  \n",
      " |  isdigit(self, /)\n",
      " |      Return True if the string is a digit string, False otherwise.\n",
      " |      \n",
      " |      A string is a digit string if all characters in the string are digits and there\n",
      " |      is at least one character in the string.\n",
      " |  \n",
      " |  isidentifier(self, /)\n",
      " |      Return True if the string is a valid Python identifier, False otherwise.\n",
      " |      \n",
      " |      Call keyword.iskeyword(s) to test whether string s is a reserved identifier,\n",
      " |      such as \"def\" or \"class\".\n",
      " |  \n",
      " |  islower(self, /)\n",
      " |      Return True if the string is a lowercase string, False otherwise.\n",
      " |      \n",
      " |      A string is lowercase if all cased characters in the string are lowercase and\n",
      " |      there is at least one cased character in the string.\n",
      " |  \n",
      " |  isnumeric(self, /)\n",
      " |      Return True if the string is a numeric string, False otherwise.\n",
      " |      \n",
      " |      A string is numeric if all characters in the string are numeric and there is at\n",
      " |      least one character in the string.\n",
      " |  \n",
      " |  isprintable(self, /)\n",
      " |      Return True if the string is printable, False otherwise.\n",
      " |      \n",
      " |      A string is printable if all of its characters are considered printable in\n",
      " |      repr() or if it is empty.\n",
      " |  \n",
      " |  isspace(self, /)\n",
      " |      Return True if the string is a whitespace string, False otherwise.\n",
      " |      \n",
      " |      A string is whitespace if all characters in the string are whitespace and there\n",
      " |      is at least one character in the string.\n",
      " |  \n",
      " |  istitle(self, /)\n",
      " |      Return True if the string is a title-cased string, False otherwise.\n",
      " |      \n",
      " |      In a title-cased string, upper- and title-case characters may only\n",
      " |      follow uncased characters and lowercase characters only cased ones.\n",
      " |  \n",
      " |  isupper(self, /)\n",
      " |      Return True if the string is an uppercase string, False otherwise.\n",
      " |      \n",
      " |      A string is uppercase if all cased characters in the string are uppercase and\n",
      " |      there is at least one cased character in the string.\n",
      " |  \n",
      " |  join(self, iterable, /)\n",
      " |      Concatenate any number of strings.\n",
      " |      \n",
      " |      The string whose method is called is inserted in between each given string.\n",
      " |      The result is returned as a new string.\n",
      " |      \n",
      " |      Example: '.'.join(['ab', 'pq', 'rs']) -> 'ab.pq.rs'\n",
      " |  \n",
      " |  ljust(self, width, fillchar=' ', /)\n",
      " |      Return a left-justified string of length width.\n",
      " |      \n",
      " |      Padding is done using the specified fill character (default is a space).\n",
      " |  \n",
      " |  lower(self, /)\n",
      " |      Return a copy of the string converted to lowercase.\n",
      " |  \n",
      " |  lstrip(self, chars=None, /)\n",
      " |      Return a copy of the string with leading whitespace removed.\n",
      " |      \n",
      " |      If chars is given and not None, remove characters in chars instead.\n",
      " |  \n",
      " |  partition(self, sep, /)\n",
      " |      Partition the string into three parts using the given separator.\n",
      " |      \n",
      " |      This will search for the separator in the string.  If the separator is found,\n",
      " |      returns a 3-tuple containing the part before the separator, the separator\n",
      " |      itself, and the part after it.\n",
      " |      \n",
      " |      If the separator is not found, returns a 3-tuple containing the original string\n",
      " |      and two empty strings.\n",
      " |  \n",
      " |  removeprefix(self, prefix, /)\n",
      " |      Return a str with the given prefix string removed if present.\n",
      " |      \n",
      " |      If the string starts with the prefix string, return string[len(prefix):].\n",
      " |      Otherwise, return a copy of the original string.\n",
      " |  \n",
      " |  removesuffix(self, suffix, /)\n",
      " |      Return a str with the given suffix string removed if present.\n",
      " |      \n",
      " |      If the string ends with the suffix string and that suffix is not empty,\n",
      " |      return string[:-len(suffix)]. Otherwise, return a copy of the original\n",
      " |      string.\n",
      " |  \n",
      " |  replace(self, old, new, count=-1, /)\n",
      " |      Return a copy with all occurrences of substring old replaced by new.\n",
      " |      \n",
      " |        count\n",
      " |          Maximum number of occurrences to replace.\n",
      " |          -1 (the default value) means replace all occurrences.\n",
      " |      \n",
      " |      If the optional argument count is given, only the first count occurrences are\n",
      " |      replaced.\n",
      " |  \n",
      " |  rfind(...)\n",
      " |      S.rfind(sub[, start[, end]]) -> int\n",
      " |      \n",
      " |      Return the highest index in S where substring sub is found,\n",
      " |      such that sub is contained within S[start:end].  Optional\n",
      " |      arguments start and end are interpreted as in slice notation.\n",
      " |      \n",
      " |      Return -1 on failure.\n",
      " |  \n",
      " |  rindex(...)\n",
      " |      S.rindex(sub[, start[, end]]) -> int\n",
      " |      \n",
      " |      Return the highest index in S where substring sub is found,\n",
      " |      such that sub is contained within S[start:end].  Optional\n",
      " |      arguments start and end are interpreted as in slice notation.\n",
      " |      \n",
      " |      Raises ValueError when the substring is not found.\n",
      " |  \n",
      " |  rjust(self, width, fillchar=' ', /)\n",
      " |      Return a right-justified string of length width.\n",
      " |      \n",
      " |      Padding is done using the specified fill character (default is a space).\n",
      " |  \n",
      " |  rpartition(self, sep, /)\n",
      " |      Partition the string into three parts using the given separator.\n",
      " |      \n",
      " |      This will search for the separator in the string, starting at the end. If\n",
      " |      the separator is found, returns a 3-tuple containing the part before the\n",
      " |      separator, the separator itself, and the part after it.\n",
      " |      \n",
      " |      If the separator is not found, returns a 3-tuple containing two empty strings\n",
      " |      and the original string.\n",
      " |  \n",
      " |  rsplit(self, /, sep=None, maxsplit=-1)\n",
      " |      Return a list of the substrings in the string, using sep as the separator string.\n",
      " |      \n",
      " |        sep\n",
      " |          The separator used to split the string.\n",
      " |      \n",
      " |          When set to None (the default value), will split on any whitespace\n",
      " |          character (including \\\\n \\\\r \\\\t \\\\f and spaces) and will discard\n",
      " |          empty strings from the result.\n",
      " |        maxsplit\n",
      " |          Maximum number of splits (starting from the left).\n",
      " |          -1 (the default value) means no limit.\n",
      " |      \n",
      " |      Splitting starts at the end of the string and works to the front.\n",
      " |  \n",
      " |  rstrip(self, chars=None, /)\n",
      " |      Return a copy of the string with trailing whitespace removed.\n",
      " |      \n",
      " |      If chars is given and not None, remove characters in chars instead.\n",
      " |  \n",
      " |  split(self, /, sep=None, maxsplit=-1)\n",
      " |      Return a list of the substrings in the string, using sep as the separator string.\n",
      " |      \n",
      " |        sep\n",
      " |          The separator used to split the string.\n",
      " |      \n",
      " |          When set to None (the default value), will split on any whitespace\n",
      " |          character (including \\\\n \\\\r \\\\t \\\\f and spaces) and will discard\n",
      " |          empty strings from the result.\n",
      " |        maxsplit\n",
      " |          Maximum number of splits (starting from the left).\n",
      " |          -1 (the default value) means no limit.\n",
      " |      \n",
      " |      Note, str.split() is mainly useful for data that has been intentionally\n",
      " |      delimited.  With natural text that includes punctuation, consider using\n",
      " |      the regular expression module.\n",
      " |  \n",
      " |  splitlines(self, /, keepends=False)\n",
      " |      Return a list of the lines in the string, breaking at line boundaries.\n",
      " |      \n",
      " |      Line breaks are not included in the resulting list unless keepends is given and\n",
      " |      true.\n",
      " |  \n",
      " |  startswith(...)\n",
      " |      S.startswith(prefix[, start[, end]]) -> bool\n",
      " |      \n",
      " |      Return True if S starts with the specified prefix, False otherwise.\n",
      " |      With optional start, test S beginning at that position.\n",
      " |      With optional end, stop comparing S at that position.\n",
      " |      prefix can also be a tuple of strings to try.\n",
      " |  \n",
      " |  strip(self, chars=None, /)\n",
      " |      Return a copy of the string with leading and trailing whitespace removed.\n",
      " |      \n",
      " |      If chars is given and not None, remove characters in chars instead.\n",
      " |  \n",
      " |  swapcase(self, /)\n",
      " |      Convert uppercase characters to lowercase and lowercase characters to uppercase.\n",
      " |  \n",
      " |  title(self, /)\n",
      " |      Return a version of the string where each word is titlecased.\n",
      " |      \n",
      " |      More specifically, words start with uppercased characters and all remaining\n",
      " |      cased characters have lower case.\n",
      " |  \n",
      " |  translate(self, table, /)\n",
      " |      Replace each character in the string using the given translation table.\n",
      " |      \n",
      " |        table\n",
      " |          Translation table, which must be a mapping of Unicode ordinals to\n",
      " |          Unicode ordinals, strings, or None.\n",
      " |      \n",
      " |      The table must implement lookup/indexing via __getitem__, for instance a\n",
      " |      dictionary or list.  If this operation raises LookupError, the character is\n",
      " |      left untouched.  Characters mapped to None are deleted.\n",
      " |  \n",
      " |  upper(self, /)\n",
      " |      Return a copy of the string converted to uppercase.\n",
      " |  \n",
      " |  zfill(self, width, /)\n",
      " |      Pad a numeric string with zeros on the left, to fill a field of the given width.\n",
      " |      \n",
      " |      The string is never truncated.\n",
      " |  \n",
      " |  ----------------------------------------------------------------------\n",
      " |  Static methods defined here:\n",
      " |  \n",
      " |  __new__(*args, **kwargs) from builtins.type\n",
      " |      Create and return a new object.  See help(type) for accurate signature.\n",
      " |  \n",
      " |  maketrans(...)\n",
      " |      Return a translation table usable for str.translate().\n",
      " |      \n",
      " |      If there is only one argument, it must be a dictionary mapping Unicode\n",
      " |      ordinals (integers) or characters to Unicode ordinals, strings or None.\n",
      " |      Character keys will be then converted to ordinals.\n",
      " |      If there are two arguments, they must be strings of equal length, and\n",
      " |      in the resulting dictionary, each character in x will be mapped to the\n",
      " |      character at the same position in y. If there is a third argument, it\n",
      " |      must be a string, whose characters will be mapped to None in the result.\n",
      "\n"
     ]
    }
   ],
   "source": [
    "help(str)"
   ]
  },
  {
   "cell_type": "code",
   "execution_count": null,
   "id": "75f8b265-a76b-4ed7-b313-d0f44ba21ef0",
   "metadata": {},
   "outputs": [],
   "source": []
  },
  {
   "cell_type": "markdown",
   "id": "c3a64199-1168-4428-98a9-20a8f5ba4cfb",
   "metadata": {},
   "source": [
    "`dir` function"
   ]
  },
  {
   "cell_type": "code",
   "execution_count": null,
   "id": "42b78d04-21f0-49a7-a58b-da351d929f7e",
   "metadata": {},
   "outputs": [],
   "source": []
  },
  {
   "cell_type": "code",
   "execution_count": null,
   "id": "6a922535-7efe-4bb3-af10-2e265c6bc94e",
   "metadata": {},
   "outputs": [],
   "source": []
  },
  {
   "cell_type": "markdown",
   "id": "77942a55-e002-444f-9ae0-04d72627989c",
   "metadata": {},
   "source": [
    "# Indentation in Python"
   ]
  },
  {
   "cell_type": "markdown",
   "id": "52c183a1-d05c-4f1a-861d-19ab8ad1172c",
   "metadata": {},
   "source": [
    "Forced indentation is a key part of the language of Python. Few other languages force indentations.<br/>\n",
    "<br/>\n",
    "In JavaScript, a function like this would be allowed<br/>\n",
    "<br/>\n",
    "function hello() {<br/>\n",
    "console.log('hello')<br/>\n",
    "}<br/>\n",
    "<br/>\n",
    "But in Python, a similar function of:<br/>\n",
    "<br/>\n",
    "def hello():<br/>\n",
    "print('hello')\n",
    "\n",
    "Would give an error. Functions in Python must use indentations."
   ]
  },
  {
   "cell_type": "code",
   "execution_count": null,
   "id": "59a7f635-e85f-4e7e-8183-c1cfdb72b9f6",
   "metadata": {},
   "outputs": [],
   "source": []
  },
  {
   "cell_type": "markdown",
   "id": "d0aecc7e-3eb4-498e-948b-546cd4275ce2",
   "metadata": {},
   "source": [
    "Function with correct indentation"
   ]
  },
  {
   "cell_type": "code",
   "execution_count": 11,
   "id": "b765d4f9-afda-4a87-a814-8909d86921e0",
   "metadata": {},
   "outputs": [],
   "source": [
    "def hello():\n",
    "    print('hello')"
   ]
  },
  {
   "cell_type": "code",
   "execution_count": 12,
   "id": "248d0f0c-b2eb-4066-ab7b-a79cefc83ccd",
   "metadata": {},
   "outputs": [
    {
     "name": "stdout",
     "output_type": "stream",
     "text": [
      "hello\n"
     ]
    }
   ],
   "source": [
    "hello()"
   ]
  },
  {
   "cell_type": "code",
   "execution_count": null,
   "id": "44c616ad-68d8-4507-a4c1-d5373d0027b1",
   "metadata": {},
   "outputs": [],
   "source": [
    "Function with incorrect indentation"
   ]
  },
  {
   "cell_type": "code",
   "execution_count": 13,
   "id": "2bb36c4e-5b5c-412c-a33a-5eecab9d3d48",
   "metadata": {},
   "outputs": [
    {
     "ename": "IndentationError",
     "evalue": "expected an indented block after function definition on line 1 (1124108270.py, line 2)",
     "output_type": "error",
     "traceback": [
      "\u001b[0;36m  Cell \u001b[0;32mIn[13], line 2\u001b[0;36m\u001b[0m\n\u001b[0;31m    print('hello')\u001b[0m\n\u001b[0m    ^\u001b[0m\n\u001b[0;31mIndentationError\u001b[0m\u001b[0;31m:\u001b[0m expected an indented block after function definition on line 1\n"
     ]
    }
   ],
   "source": [
    "def hello_v2():\n",
    "print('hello')"
   ]
  },
  {
   "cell_type": "code",
   "execution_count": 15,
   "id": "0013b06a-0e08-47dd-9653-08ef550643f4",
   "metadata": {},
   "outputs": [
    {
     "ename": "NameError",
     "evalue": "name 'hello_v2' is not defined",
     "output_type": "error",
     "traceback": [
      "\u001b[0;31m---------------------------------------------------------------------------\u001b[0m",
      "\u001b[0;31mNameError\u001b[0m                                 Traceback (most recent call last)",
      "Cell \u001b[0;32mIn[15], line 1\u001b[0m\n\u001b[0;32m----> 1\u001b[0m \u001b[43mhello_v2\u001b[49m()\n",
      "\u001b[0;31mNameError\u001b[0m: name 'hello_v2' is not defined"
     ]
    }
   ],
   "source": [
    "hello_v2()"
   ]
  },
  {
   "cell_type": "code",
   "execution_count": null,
   "id": "9ec4d447-76e6-48b7-9907-9f81dc935d2c",
   "metadata": {},
   "outputs": [],
   "source": []
  }
 ],
 "metadata": {
  "kernelspec": {
   "display_name": "Python (.venv - useful-pandas-code)",
   "language": "python",
   "name": "useful-pandas-code"
  },
  "language_info": {
   "codemirror_mode": {
    "name": "ipython",
    "version": 3
   },
   "file_extension": ".py",
   "mimetype": "text/x-python",
   "name": "python",
   "nbconvert_exporter": "python",
   "pygments_lexer": "ipython3",
   "version": "3.10.12"
  }
 },
 "nbformat": 4,
 "nbformat_minor": 5
}
